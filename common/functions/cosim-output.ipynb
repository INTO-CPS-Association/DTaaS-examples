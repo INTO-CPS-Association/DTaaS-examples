{
 "cells": [
  {
   "cell_type": "code",
   "execution_count": null,
   "metadata": {
    "collapsed": true
   },
   "outputs": [],
   "source": [
    "import pandas as pd\n",
    "import matplotlib.pyplot as plt\n",
    "\n",
    "data = pd.read_csv('../../cosim/maestro-output.csv')\n",
    "columns_list = list(data.columns)\n",
    "\n",
    "for index, column in enumerate(columns_list):\n",
    "    print(f\"Column {index}: {column}\")"
   ]
  },
  {
   "cell_type": "code",
   "execution_count": null,
   "outputs": [],
   "source": [
    "# Change the index in the square brackets to the corresponding index of the desired column\n",
    "x_column = data.columns[0]\n",
    "y_column = data.columns[1]\n",
    "\n",
    "plt.figure(figsize=(8, 4))\n",
    "plt.plot(data[x_column], data[y_column], linewidth=2)\n",
    "plt.title(\"Co-simulation outputs\")\n",
    "plt.xlabel(x_column)\n",
    "plt.ylabel(y_column)\n",
    "plt.grid(True)\n",
    "\n",
    "\n",
    "plt.savefig(\"../../data/cosim/time-series.png\")\n",
    "plt.close()"
   ],
   "metadata": {
    "collapsed": false
   }
  },
  {
   "cell_type": "code",
   "execution_count": null,
   "outputs": [],
   "source": [],
   "metadata": {
    "collapsed": false
   }
  }
 ],
 "metadata": {
  "kernelspec": {
   "display_name": "Python 3",
   "language": "python",
   "name": "python3"
  },
  "language_info": {
   "codemirror_mode": {
    "name": "ipython",
    "version": 2
   },
   "file_extension": ".py",
   "mimetype": "text/x-python",
   "name": "python",
   "nbconvert_exporter": "python",
   "pygments_lexer": "ipython2",
   "version": "2.7.6"
  }
 },
 "nbformat": 4,
 "nbformat_minor": 0
}
