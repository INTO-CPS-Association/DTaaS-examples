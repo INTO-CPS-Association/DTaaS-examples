{
 "cells": [
  {
   "cell_type": "code",
   "execution_count": null,
   "outputs": [],
   "source": [
    "!pip install pandas bokeh"
   ],
   "metadata": {
    "collapsed": false
   }
  },
  {
   "cell_type": "code",
   "execution_count": null,
   "outputs": [],
   "source": [
    "import pandas as pd\n",
    "from bokeh.models import ColumnDataSource\n",
    "from bokeh.palettes import Category10\n",
    "from bokeh.plotting import figure, output_notebook, show\n",
    "from bokeh.io import push_notebook\n",
    "import ipywidgets as widgets\n",
    "from IPython.display import display\n",
    "\n",
    "data = pd.read_csv('../data/cosim/maestro-output.csv')\n",
    "source = ColumnDataSource(data)\n",
    "\n",
    "x_column = data.columns[0]\n",
    "y_columns = list(data.columns)[1:]\n",
    "\n",
    "p = figure(\n",
    "    title=\"Co-simulation outputs\",\n",
    "    width=800,\n",
    "    height=400,\n",
    "    x_axis_label=x_column,\n",
    "    y_axis_label=\", \".join(y_columns),\n",
    ")\n",
    "\n",
    "lines = {}\n",
    "line_colors = Category10[len(y_columns)]\n",
    "\n",
    "for i, y_column in enumerate(y_columns):\n",
    "    line = p.line(x=x_column, y=y_column, source=source, line_width=2, line_color=line_colors[i], legend_label=y_column)\n",
    "    lines[y_column] = line\n",
    "\n",
    "output_notebook()\n",
    "\n",
    "p.yaxis[0].axis_label = \"Multi-model connections\"\n",
    "\n",
    "y_select = widgets.Dropdown(\n",
    "    options=[\"All systems\"] + y_columns,\n",
    "    description=\"Y-axis:\"\n",
    ")\n",
    "\n",
    "def update_plot(change):\n",
    "    y_col = y_select.value\n",
    "    if y_col == \"All systems\":\n",
    "        y_columns_to_plot = y_columns\n",
    "        p.yaxis[0].axis_label = \"Multi-model connections\"\n",
    "    else:\n",
    "        y_columns_to_plot = [y_col]\n",
    "        p.yaxis[0].axis_label = \", \".join(y_columns_to_plot)\n",
    "\n",
    "    for column in y_columns:\n",
    "        lines[column].visible = (column in y_columns_to_plot)\n",
    "\n",
    "    legend_items = [(y_column, [lines[y_column]]) for y_column in y_columns_to_plot]\n",
    "    p.legend.items = legend_items\n",
    "\n",
    "    push_notebook()\n",
    "\n",
    "y_select.observe(update_plot, names='value')\n",
    "\n",
    "display(widgets.VBox([y_select]))\n",
    "show(p, notebook_handle=True)\n"
   ],
   "metadata": {
    "collapsed": false
   }
  }
 ],
 "metadata": {
  "kernelspec": {
   "display_name": "Python 3",
   "language": "python",
   "name": "python3"
  },
  "language_info": {
   "codemirror_mode": {
    "name": "ipython",
    "version": 2
   },
   "file_extension": ".py",
   "mimetype": "text/x-python",
   "name": "python",
   "nbconvert_exporter": "python",
   "pygments_lexer": "ipython2",
   "version": "2.7.6"
  }
 },
 "nbformat": 4,
 "nbformat_minor": 0
}
