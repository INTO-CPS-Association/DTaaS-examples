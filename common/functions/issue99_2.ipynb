{
 "cells": [
  {
   "cell_type": "code",
   "execution_count": 9,
   "metadata": {
    "collapsed": true
   },
   "outputs": [
    {
     "ename": "RuntimeError",
     "evalue": "To use bokeh.io image export functions you need selenium ('conda install selenium' or 'pip install selenium')",
     "output_type": "error",
     "traceback": [
      "\u001B[0;31m---------------------------------------------------------------------------\u001B[0m",
      "\u001B[0;31mModuleNotFoundError\u001B[0m                       Traceback (most recent call last)",
      "File \u001B[0;32m/Library/Python/3.9/site-packages/bokeh/util/dependencies.py:80\u001B[0m, in \u001B[0;36mimport_required\u001B[0;34m(mod_name, error_msg)\u001B[0m\n\u001B[1;32m     79\u001B[0m \u001B[38;5;28;01mtry\u001B[39;00m:\n\u001B[0;32m---> 80\u001B[0m     \u001B[38;5;28;01mreturn\u001B[39;00m \u001B[43mimport_module\u001B[49m\u001B[43m(\u001B[49m\u001B[43mmod_name\u001B[49m\u001B[43m)\u001B[49m\n\u001B[1;32m     81\u001B[0m \u001B[38;5;28;01mexcept\u001B[39;00m \u001B[38;5;167;01mImportError\u001B[39;00m \u001B[38;5;28;01mas\u001B[39;00m e:\n",
      "File \u001B[0;32m/Applications/Xcode.app/Contents/Developer/Library/Frameworks/Python3.framework/Versions/3.9/lib/python3.9/importlib/__init__.py:127\u001B[0m, in \u001B[0;36mimport_module\u001B[0;34m(name, package)\u001B[0m\n\u001B[1;32m    126\u001B[0m         level \u001B[38;5;241m+\u001B[39m\u001B[38;5;241m=\u001B[39m \u001B[38;5;241m1\u001B[39m\n\u001B[0;32m--> 127\u001B[0m \u001B[38;5;28;01mreturn\u001B[39;00m \u001B[43m_bootstrap\u001B[49m\u001B[38;5;241;43m.\u001B[39;49m\u001B[43m_gcd_import\u001B[49m\u001B[43m(\u001B[49m\u001B[43mname\u001B[49m\u001B[43m[\u001B[49m\u001B[43mlevel\u001B[49m\u001B[43m:\u001B[49m\u001B[43m]\u001B[49m\u001B[43m,\u001B[49m\u001B[43m \u001B[49m\u001B[43mpackage\u001B[49m\u001B[43m,\u001B[49m\u001B[43m \u001B[49m\u001B[43mlevel\u001B[49m\u001B[43m)\u001B[49m\n",
      "File \u001B[0;32m<frozen importlib._bootstrap>:1030\u001B[0m, in \u001B[0;36m_gcd_import\u001B[0;34m(name, package, level)\u001B[0m\n",
      "File \u001B[0;32m<frozen importlib._bootstrap>:1007\u001B[0m, in \u001B[0;36m_find_and_load\u001B[0;34m(name, import_)\u001B[0m\n",
      "File \u001B[0;32m<frozen importlib._bootstrap>:972\u001B[0m, in \u001B[0;36m_find_and_load_unlocked\u001B[0;34m(name, import_)\u001B[0m\n",
      "File \u001B[0;32m<frozen importlib._bootstrap>:228\u001B[0m, in \u001B[0;36m_call_with_frames_removed\u001B[0;34m(f, *args, **kwds)\u001B[0m\n",
      "File \u001B[0;32m<frozen importlib._bootstrap>:1030\u001B[0m, in \u001B[0;36m_gcd_import\u001B[0;34m(name, package, level)\u001B[0m\n",
      "File \u001B[0;32m<frozen importlib._bootstrap>:1007\u001B[0m, in \u001B[0;36m_find_and_load\u001B[0;34m(name, import_)\u001B[0m\n",
      "File \u001B[0;32m<frozen importlib._bootstrap>:984\u001B[0m, in \u001B[0;36m_find_and_load_unlocked\u001B[0;34m(name, import_)\u001B[0m\n",
      "\u001B[0;31mModuleNotFoundError\u001B[0m: No module named 'selenium'",
      "\nThe above exception was the direct cause of the following exception:\n",
      "\u001B[0;31mRuntimeError\u001B[0m                              Traceback (most recent call last)",
      "Cell \u001B[0;32mIn[9], line 35\u001B[0m\n\u001B[1;32m     33\u001B[0m \u001B[38;5;66;03m# Export the plot as a PNG file\u001B[39;00m\n\u001B[1;32m     34\u001B[0m png_file \u001B[38;5;241m=\u001B[39m \u001B[38;5;124m\"\u001B[39m\u001B[38;5;124mplot.png\u001B[39m\u001B[38;5;124m\"\u001B[39m\n\u001B[0;32m---> 35\u001B[0m \u001B[43mexport_png\u001B[49m\u001B[43m(\u001B[49m\u001B[43mlayout\u001B[49m\u001B[43m,\u001B[49m\u001B[43m \u001B[49m\u001B[43mfilename\u001B[49m\u001B[38;5;241;43m=\u001B[39;49m\u001B[43mpng_file\u001B[49m\u001B[43m)\u001B[49m\n\u001B[1;32m     38\u001B[0m \u001B[38;5;66;03m# Display the HTML plot underneath the cell\u001B[39;00m\n\u001B[1;32m     39\u001B[0m IFrame(src\u001B[38;5;241m=\u001B[39m\u001B[38;5;124m'\u001B[39m\u001B[38;5;124mplot.html\u001B[39m\u001B[38;5;124m'\u001B[39m, width\u001B[38;5;241m=\u001B[39m\u001B[38;5;241m800\u001B[39m, height\u001B[38;5;241m=\u001B[39m\u001B[38;5;241m400\u001B[39m)\n",
      "File \u001B[0;32m/Library/Python/3.9/site-packages/bokeh/io/export.py:115\u001B[0m, in \u001B[0;36mexport_png\u001B[0;34m(obj, filename, width, height, webdriver, timeout, state)\u001B[0m\n\u001B[1;32m     73\u001B[0m \u001B[38;5;28;01mdef\u001B[39;00m \u001B[38;5;21mexport_png\u001B[39m(obj: UIElement \u001B[38;5;241m|\u001B[39m Document, \u001B[38;5;241m*\u001B[39m, filename: PathLike \u001B[38;5;241m|\u001B[39m \u001B[38;5;28;01mNone\u001B[39;00m \u001B[38;5;241m=\u001B[39m \u001B[38;5;28;01mNone\u001B[39;00m, width: \u001B[38;5;28mint\u001B[39m \u001B[38;5;241m|\u001B[39m \u001B[38;5;28;01mNone\u001B[39;00m \u001B[38;5;241m=\u001B[39m \u001B[38;5;28;01mNone\u001B[39;00m,\n\u001B[1;32m     74\u001B[0m         height: \u001B[38;5;28mint\u001B[39m \u001B[38;5;241m|\u001B[39m \u001B[38;5;28;01mNone\u001B[39;00m \u001B[38;5;241m=\u001B[39m \u001B[38;5;28;01mNone\u001B[39;00m, webdriver: WebDriver \u001B[38;5;241m|\u001B[39m \u001B[38;5;28;01mNone\u001B[39;00m \u001B[38;5;241m=\u001B[39m \u001B[38;5;28;01mNone\u001B[39;00m, timeout: \u001B[38;5;28mint\u001B[39m \u001B[38;5;241m=\u001B[39m \u001B[38;5;241m5\u001B[39m, state: State \u001B[38;5;241m|\u001B[39m \u001B[38;5;28;01mNone\u001B[39;00m \u001B[38;5;241m=\u001B[39m \u001B[38;5;28;01mNone\u001B[39;00m) \u001B[38;5;241m-\u001B[39m\u001B[38;5;241m>\u001B[39m \u001B[38;5;28mstr\u001B[39m:\n\u001B[1;32m     75\u001B[0m \u001B[38;5;250m    \u001B[39m\u001B[38;5;124;03m''' Export the ``UIElement`` object or document as a PNG.\u001B[39;00m\n\u001B[1;32m     76\u001B[0m \n\u001B[1;32m     77\u001B[0m \u001B[38;5;124;03m    If the filename is not given, it is derived from the script name (e.g.\u001B[39;00m\n\u001B[0;32m   (...)\u001B[0m\n\u001B[1;32m    113\u001B[0m \n\u001B[1;32m    114\u001B[0m \u001B[38;5;124;03m    '''\u001B[39;00m\n\u001B[0;32m--> 115\u001B[0m     image \u001B[38;5;241m=\u001B[39m \u001B[43mget_screenshot_as_png\u001B[49m\u001B[43m(\u001B[49m\u001B[43mobj\u001B[49m\u001B[43m,\u001B[49m\u001B[43m \u001B[49m\u001B[43mwidth\u001B[49m\u001B[38;5;241;43m=\u001B[39;49m\u001B[43mwidth\u001B[49m\u001B[43m,\u001B[49m\u001B[43m \u001B[49m\u001B[43mheight\u001B[49m\u001B[38;5;241;43m=\u001B[39;49m\u001B[43mheight\u001B[49m\u001B[43m,\u001B[49m\u001B[43m \u001B[49m\u001B[43mdriver\u001B[49m\u001B[38;5;241;43m=\u001B[39;49m\u001B[43mwebdriver\u001B[49m\u001B[43m,\u001B[49m\u001B[43m \u001B[49m\u001B[43mtimeout\u001B[49m\u001B[38;5;241;43m=\u001B[39;49m\u001B[43mtimeout\u001B[49m\u001B[43m,\u001B[49m\u001B[43m \u001B[49m\u001B[43mstate\u001B[49m\u001B[38;5;241;43m=\u001B[39;49m\u001B[43mstate\u001B[49m\u001B[43m)\u001B[49m\n\u001B[1;32m    117\u001B[0m     \u001B[38;5;28;01mif\u001B[39;00m filename \u001B[38;5;129;01mis\u001B[39;00m \u001B[38;5;28;01mNone\u001B[39;00m:\n\u001B[1;32m    118\u001B[0m         filename \u001B[38;5;241m=\u001B[39m default_filename(\u001B[38;5;124m\"\u001B[39m\u001B[38;5;124mpng\u001B[39m\u001B[38;5;124m\"\u001B[39m)\n",
      "File \u001B[0;32m/Library/Python/3.9/site-packages/bokeh/io/export.py:245\u001B[0m, in \u001B[0;36mget_screenshot_as_png\u001B[0;34m(obj, driver, timeout, resources, width, height, state)\u001B[0m\n\u001B[1;32m    218\u001B[0m \u001B[38;5;28;01mdef\u001B[39;00m \u001B[38;5;21mget_screenshot_as_png\u001B[39m(obj: UIElement \u001B[38;5;241m|\u001B[39m Document, \u001B[38;5;241m*\u001B[39m, driver: WebDriver \u001B[38;5;241m|\u001B[39m \u001B[38;5;28;01mNone\u001B[39;00m \u001B[38;5;241m=\u001B[39m \u001B[38;5;28;01mNone\u001B[39;00m, timeout: \u001B[38;5;28mint\u001B[39m \u001B[38;5;241m=\u001B[39m \u001B[38;5;241m5\u001B[39m,\n\u001B[1;32m    219\u001B[0m         resources: Resources \u001B[38;5;241m=\u001B[39m INLINE, width: \u001B[38;5;28mint\u001B[39m \u001B[38;5;241m|\u001B[39m \u001B[38;5;28;01mNone\u001B[39;00m \u001B[38;5;241m=\u001B[39m \u001B[38;5;28;01mNone\u001B[39;00m, height: \u001B[38;5;28mint\u001B[39m \u001B[38;5;241m|\u001B[39m \u001B[38;5;28;01mNone\u001B[39;00m \u001B[38;5;241m=\u001B[39m \u001B[38;5;28;01mNone\u001B[39;00m, state: State \u001B[38;5;241m|\u001B[39m \u001B[38;5;28;01mNone\u001B[39;00m \u001B[38;5;241m=\u001B[39m \u001B[38;5;28;01mNone\u001B[39;00m) \u001B[38;5;241m-\u001B[39m\u001B[38;5;241m>\u001B[39m Image\u001B[38;5;241m.\u001B[39mImage:\n\u001B[1;32m    220\u001B[0m \u001B[38;5;250m    \u001B[39m\u001B[38;5;124;03m''' Get a screenshot of a ``UIElement`` object.\u001B[39;00m\n\u001B[1;32m    221\u001B[0m \n\u001B[1;32m    222\u001B[0m \u001B[38;5;124;03m    Args:\u001B[39;00m\n\u001B[0;32m   (...)\u001B[0m\n\u001B[1;32m    243\u001B[0m \n\u001B[1;32m    244\u001B[0m \u001B[38;5;124;03m    '''\u001B[39;00m\n\u001B[0;32m--> 245\u001B[0m     \u001B[38;5;28;01mfrom\u001B[39;00m \u001B[38;5;21;01m.\u001B[39;00m\u001B[38;5;21;01mwebdriver\u001B[39;00m \u001B[38;5;28;01mimport\u001B[39;00m webdriver_control\n\u001B[1;32m    247\u001B[0m     \u001B[38;5;28;01mwith\u001B[39;00m _tmp_html() \u001B[38;5;28;01mas\u001B[39;00m tmp:\n\u001B[1;32m    248\u001B[0m         theme \u001B[38;5;241m=\u001B[39m (state \u001B[38;5;129;01mor\u001B[39;00m curstate())\u001B[38;5;241m.\u001B[39mdocument\u001B[38;5;241m.\u001B[39mtheme\n",
      "File \u001B[0;32m/Library/Python/3.9/site-packages/bokeh/io/webdriver.py:24\u001B[0m\n\u001B[1;32m     19\u001B[0m \u001B[38;5;66;03m#-----------------------------------------------------------------------------\u001B[39;00m\n\u001B[1;32m     20\u001B[0m \u001B[38;5;66;03m# Imports\u001B[39;00m\n\u001B[1;32m     21\u001B[0m \u001B[38;5;66;03m#-----------------------------------------------------------------------------\u001B[39;00m\n\u001B[1;32m     23\u001B[0m \u001B[38;5;28;01mfrom\u001B[39;00m \u001B[38;5;21;01m.\u001B[39;00m\u001B[38;5;21;01m.\u001B[39;00m\u001B[38;5;21;01mutil\u001B[39;00m\u001B[38;5;21;01m.\u001B[39;00m\u001B[38;5;21;01mdependencies\u001B[39;00m \u001B[38;5;28;01mimport\u001B[39;00m import_required \u001B[38;5;66;03m# isort:skip\u001B[39;00m\n\u001B[0;32m---> 24\u001B[0m \u001B[43mimport_required\u001B[49m\u001B[43m(\u001B[49m\u001B[38;5;124;43m\"\u001B[39;49m\u001B[38;5;124;43mselenium.webdriver\u001B[39;49m\u001B[38;5;124;43m\"\u001B[39;49m\u001B[43m,\u001B[49m\n\u001B[1;32m     25\u001B[0m \u001B[43m                \u001B[49m\u001B[38;5;124;43m\"\u001B[39;49m\u001B[38;5;124;43mTo use bokeh.io image export functions you need selenium \u001B[39;49m\u001B[38;5;124;43m\"\u001B[39;49m\n\u001B[1;32m     26\u001B[0m \u001B[43m                \u001B[49m\u001B[38;5;124;43m\"\u001B[39;49m\u001B[38;5;124;43m(\u001B[39;49m\u001B[38;5;124;43m'\u001B[39;49m\u001B[38;5;124;43mconda install selenium\u001B[39;49m\u001B[38;5;124;43m'\u001B[39;49m\u001B[38;5;124;43m or \u001B[39;49m\u001B[38;5;124;43m'\u001B[39;49m\u001B[38;5;124;43mpip install selenium\u001B[39;49m\u001B[38;5;124;43m'\u001B[39;49m\u001B[38;5;124;43m)\u001B[39;49m\u001B[38;5;124;43m\"\u001B[39;49m\u001B[43m)\u001B[49m\n\u001B[1;32m     28\u001B[0m \u001B[38;5;66;03m# Standard library imports\u001B[39;00m\n\u001B[1;32m     29\u001B[0m \u001B[38;5;28;01mimport\u001B[39;00m \u001B[38;5;21;01matexit\u001B[39;00m\n",
      "File \u001B[0;32m/Library/Python/3.9/site-packages/bokeh/util/dependencies.py:82\u001B[0m, in \u001B[0;36mimport_required\u001B[0;34m(mod_name, error_msg)\u001B[0m\n\u001B[1;32m     80\u001B[0m     \u001B[38;5;28;01mreturn\u001B[39;00m import_module(mod_name)\n\u001B[1;32m     81\u001B[0m \u001B[38;5;28;01mexcept\u001B[39;00m \u001B[38;5;167;01mImportError\u001B[39;00m \u001B[38;5;28;01mas\u001B[39;00m e:\n\u001B[0;32m---> 82\u001B[0m     \u001B[38;5;28;01mraise\u001B[39;00m \u001B[38;5;167;01mRuntimeError\u001B[39;00m(error_msg) \u001B[38;5;28;01mfrom\u001B[39;00m \u001B[38;5;21;01me\u001B[39;00m\n",
      "\u001B[0;31mRuntimeError\u001B[0m: To use bokeh.io image export functions you need selenium ('conda install selenium' or 'pip install selenium')"
     ]
    }
   ],
   "source": [
    "import pandas as pd\n",
    "from bokeh.plotting import figure, output_file, save\n",
    "from bokeh.models import ColumnDataSource\n",
    "from bokeh.palettes import Category20\n",
    "from IPython.display import IFrame\n",
    "from bokeh.io import export_png\n",
    "\n",
    "data = pd.read_csv('data/data.csv')\n",
    "source = ColumnDataSource(data)\n",
    "\n",
    "y_columns = list(data.columns[1:])\n",
    "x_column = data.columns[0]\n",
    "\n",
    "x_axis_label = x_column\n",
    "\n",
    "p = figure(title=\"Data visualization\", width=800, height=400, x_axis_label=x_axis_label)\n",
    "\n",
    "line_colors = Category20[len(y_columns)]\n",
    "\n",
    "for y_column, color in zip(y_columns, line_colors):\n",
    "    p.line(x=x_column, y=y_column, source=source, line_width=2, legend_label=y_column, line_color=color)\n",
    "\n",
    "p.yaxis.axis_label = \"All systems\"\n",
    "\n",
    "layout = p\n",
    "\n",
    "# Define the output file name\n",
    "output_file(\"plot.html\")\n",
    "\n",
    "# Save and display the plot\n",
    "save(layout)\n",
    "\n",
    "# Export the plot as a PNG file\n",
    "png_file = \"plot.png\"\n",
    "export_png(layout, filename=png_file)\n",
    "\n",
    "\n",
    "# Display the HTML plot underneath the cell\n",
    "IFrame(src='plot.html', width=800, height=400)"
   ]
  },
  {
   "cell_type": "code",
   "execution_count": 11,
   "outputs": [
    {
     "data": {
      "text/plain": "'/Users/yohan/Development/au/projetctWork/DTaaS-examples/common/functions/plot2.html'"
     },
     "execution_count": 11,
     "metadata": {},
     "output_type": "execute_result"
    }
   ],
   "source": [
    "from bokeh.models import FactorRange\n",
    "\n",
    "data = pd.read_csv('data/data.csv')\n",
    "\n",
    "categories = list(data.columns[1:])  # Use columns 2-6 as categories\n",
    "time = list(data['time'])  # Use the 'time' column as the x-axis values\n",
    "\n",
    "x = [(category, str(t)) for category in categories for t in time]\n",
    "\n",
    "# Include both positive and negative values in the counts list\n",
    "counts = sum(zip(*[data[category].astype(float) for category in categories]), ())\n",
    "\n",
    "# Define custom colors for the bars\n",
    "custom_colors = [\"#FF5733\", \"#FFC300\", \"#33FF57\", \"#337DFF\", \"#FF33C5\"] * len(time)\n",
    "\n",
    "p = figure(x_range=FactorRange(*x), height=350, title=\"Data by Category and Time\",\n",
    "           toolbar_location=None, tools=\"\", output_backend=\"svg\")\n",
    "\n",
    "# Use custom colors for the bars\n",
    "p.vbar(x=x, top=counts, width=0.9, line_color=\"white\", fill_color=custom_colors)\n",
    "\n",
    "# Adjust the y-axis range to accommodate negative values\n",
    "p.y_range.start = min(counts) - 1  # Adjust the lower bound for the y-axis\n",
    "p.x_range.range_padding = 0.1\n",
    "p.xaxis.major_label_orientation = 1\n",
    "p.xgrid.grid_line_color = None\n",
    "\n",
    "# Define the output file name\n",
    "output_file(\"plot2.html\")\n",
    "\n",
    "# Save and display the plot\n",
    "save(p)"
   ],
   "metadata": {
    "collapsed": false
   }
  },
  {
   "cell_type": "code",
   "execution_count": null,
   "outputs": [],
   "source": [],
   "metadata": {
    "collapsed": false
   }
  }
 ],
 "metadata": {
  "kernelspec": {
   "display_name": "Python 3",
   "language": "python",
   "name": "python3"
  },
  "language_info": {
   "codemirror_mode": {
    "name": "ipython",
    "version": 2
   },
   "file_extension": ".py",
   "mimetype": "text/x-python",
   "name": "python",
   "nbconvert_exporter": "python",
   "pygments_lexer": "ipython2",
   "version": "2.7.6"
  }
 },
 "nbformat": 4,
 "nbformat_minor": 0
}
