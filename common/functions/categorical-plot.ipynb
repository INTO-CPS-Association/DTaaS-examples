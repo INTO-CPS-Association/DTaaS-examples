{
 "cells": [
  {
   "cell_type": "code",
   "execution_count": 1,
   "metadata": {
    "collapsed": true
   },
   "outputs": [],
   "source": [
    "from bokeh.models import FactorRange\n",
    "import pandas as pd\n",
    "from bokeh.plotting import figure, show\n",
    "\n",
    "data = pd.read_csv('../data/cosim/maestro-output.csv')\n",
    "\n",
    "# column name for specific range\n",
    "# optional are steps 0.1 and max value range of 5\n",
    "# columns are: time,{msd2}.msd2i.fk,{msd2}.msd2i.v2,{msd2}.msd2i.x2,{msd1}.msd1i.v1,{msd1}.msd1i.x1\n",
    "range_column_name = \"time\"\n",
    "\n",
    "# Get the minimum and maximum time values in the dataset\n",
    "min_time = data[range_column_name].min()\n",
    "max_time = data[range_column_name].max()\n",
    "\n",
    "# Define a time range for the specific range you want\n",
    "start_time = 0  # Example start time\n",
    "end_time = 0.005    # Example end time (exclusive)\n",
    "\n",
    "# Filter the data based on the time range\n",
    "data = data[(data[range_column_name] >= start_time) & (data[range_column_name] < end_time)]\n",
    "categories = list(data.columns[1:])  # Use columns 2-6 as categories\n",
    "time = list(data[range_column_name])  # Use the 'time' column as the x-axis values\n",
    "x = [(category, str(t)) for t in time for category in categories]\n",
    "\n",
    "# Calculate the width for each category\n",
    "num_categories = len(categories)\n",
    "width = 2 / num_categories  # Adjust the width as needed\n",
    "\n",
    "# Create a list of values for each row\n",
    "values = [data.iloc[i, 1:].astype(float).tolist() for i in range(len(data))]\n",
    "\n",
    "# Flatten the list of values to use as the 'top' parameter\n",
    "counts = [val for sublist in values for val in sublist]\n",
    "\n",
    "# Define custom colors for the bars\n",
    "custom_colors = [\"#FF5733\", \"#FFC300\", \"#33FF57\", \"#337DFF\", \"#FF33C5\"] * len(time)\n",
    "p = figure(x_range=FactorRange(*x), height=350, title=\"Data by Category and Time\",\n",
    "           toolbar_location=None, tools=\"\")\n",
    "\n",
    "# Use custom colors for the bars\n",
    "p.vbar(x=x, top=counts, width=width, line_color=\"white\", fill_color=custom_colors)\n",
    "\n",
    "# Adjust the y-axis range to accommodate negative values\n",
    "p.y_range.start = min(counts) - 1  # Adjust the lower bound for the y-axis\n",
    "p.x_range.range_padding = 0.01\n",
    "p.xaxis.major_label_orientation = 1\n",
    "p.xgrid.grid_line_color = None\n",
    "show(p)"
   ]
  },
  {
   "cell_type": "code",
   "execution_count": null,
   "outputs": [],
   "source": [],
   "metadata": {
    "collapsed": false
   }
  }
 ],
 "metadata": {
  "kernelspec": {
   "display_name": "Python 3",
   "language": "python",
   "name": "python3"
  },
  "language_info": {
   "codemirror_mode": {
    "name": "ipython",
    "version": 2
   },
   "file_extension": ".py",
   "mimetype": "text/x-python",
   "name": "python",
   "nbconvert_exporter": "python",
   "pygments_lexer": "ipython2",
   "version": "2.7.6"
  }
 },
 "nbformat": 4,
 "nbformat_minor": 0
}
